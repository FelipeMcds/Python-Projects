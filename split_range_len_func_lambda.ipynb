{
 "cells": [
  {
   "cell_type": "markdown",
   "metadata": {},
   "source": [
    "# Split\n",
    "\n"
   ]
  },
  {
   "cell_type": "code",
   "execution_count": 13,
   "metadata": {},
   "outputs": [
    {
     "name": "stdout",
     "output_type": "stream",
     "text": [
      "['123', '456789']\n"
     ]
    }
   ],
   "source": [
    "a='123.456789'\n",
    "print(a.split('.')) #Retorna uma lista com os valores separados pelo caractere do split\n"
   ]
  },
  {
   "cell_type": "markdown",
   "metadata": {},
   "source": [
    "# Range e Len\n"
   ]
  },
  {
   "cell_type": "code",
   "execution_count": 1,
   "metadata": {},
   "outputs": [
    {
     "name": "stdout",
     "output_type": "stream",
     "text": [
      "Pera\n",
      "Uva\n",
      "Maca\n",
      "Melancia\n"
     ]
    }
   ],
   "source": [
    "lista= ['Pera','Uva','Maca','Melancia']\n",
    "for i in range(len(lista)):\n",
    "    print(lista[i])\n"
   ]
  },
  {
   "cell_type": "markdown",
   "metadata": {},
   "source": [
    "# Funções"
   ]
  },
  {
   "cell_type": "code",
   "execution_count": 2,
   "metadata": {},
   "outputs": [
    {
     "name": "stdout",
     "output_type": "stream",
     "text": [
      "Helo Aluno\n"
     ]
    }
   ],
   "source": [
    "def primeiraf(nome):\n",
    "    print(\"Helo \"+ nome)\n",
    "\n",
    "primeiraf('Aluno')"
   ]
  },
  {
   "cell_type": "markdown",
   "metadata": {},
   "source": [
    "##### Quando usamos * no argumento, a função recebe todos os outros valores passado pra ela como uma tupla\n",
    "\n"
   ]
  },
  {
   "cell_type": "code",
   "execution_count": 7,
   "metadata": {},
   "outputs": [
    {
     "name": "stdout",
     "output_type": "stream",
     "text": [
      "O parâmetro passado foi:  10\n",
      "O parâmetro passado foi:  20\n",
      "O parâmetro passado foi:  30\n",
      "O parâmetro passado foi:  40\n",
      "O parâmetro passado foi:  50\n"
     ]
    }
   ],
   "source": [
    "# Funções com número variável de argumentos\n",
    "def printVarInfo( arg1, *vartuple ):\n",
    "   # Imprimindo o valor do primeiro argumento\n",
    "    print (\"O parâmetro passado foi: \", arg1)\n",
    "   \n",
    "   # Imprimindo o valor do segundo argumento \n",
    "    for item in vartuple:\n",
    "        print (\"O parâmetro passado foi: \", item)\n",
    "    return;\n",
    "\n",
    "printVarInfo(10,20,30,40,50)"
   ]
  },
  {
   "cell_type": "markdown",
   "metadata": {},
   "source": [
    "# Lambda\n"
   ]
  },
  {
   "cell_type": "code",
   "execution_count": 8,
   "metadata": {},
   "outputs": [
    {
     "data": {
      "text/plain": [
       "25"
      ]
     },
     "execution_count": 8,
     "metadata": {},
     "output_type": "execute_result"
    }
   ],
   "source": [
    "#usado normalmente com as funções map, filter e reduce.\n",
    "#uso quando eu não quero definir uma função\n",
    "#preciso ter uma variável atrelada a ela\n",
    "\n",
    "potencia= lambda x: x*x\n",
    "potencia(5)"
   ]
  }
 ],
 "metadata": {
  "interpreter": {
   "hash": "034184866bf2af6528769cdd72bb9ef263379e93d3afa81b04c0c79796d92213"
  },
  "kernelspec": {
   "display_name": "Python 3.9.6 64-bit",
   "language": "python",
   "name": "python3"
  },
  "language_info": {
   "codemirror_mode": {
    "name": "ipython",
    "version": 3
   },
   "file_extension": ".py",
   "mimetype": "text/x-python",
   "name": "python",
   "nbconvert_exporter": "python",
   "pygments_lexer": "ipython3",
   "version": "3.9.6"
  },
  "orig_nbformat": 4
 },
 "nbformat": 4,
 "nbformat_minor": 2
}
