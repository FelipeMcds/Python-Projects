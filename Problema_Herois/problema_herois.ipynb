{
 "cells": [
  {
   "cell_type": "markdown",
   "metadata": {},
   "source": [
    "## Problema Herois"
   ]
  },
  {
   "cell_type": "markdown",
   "metadata": {},
   "source": [
    "Considere um arquivo CSV (comma separated values) informações demográficas sobre super heróis. As informações do arquivo são:\n",
    "\n",
    "* id - Número da linha\n",
    "* name - Nome\n",
    "* Gender - Gênero\n",
    "* Eye color - Cor dos olhos\n",
    "* Race - Raça\n",
    "* Hair color - Cor do cabelo\n",
    "* Height - Altura em centímetros\n",
    "* Publisher - Estúdio\n",
    "* Skin color - Cor da pele\n",
    "* Alignment - Vilão ou herói\n",
    "* Weight - Peso em libras\n",
    "\n",
    "Efetue a leitura desse arquivo, sem a utilização de módulos externos (Pandas), e crie:\n",
    "\n",
    "* Um arquivo de saída (.csv) com todos os heróis do gênero masculino (id, name)\n",
    "* Um arquivo de saída (.csv) com todos os heróis do gênero feminino (id, name)\n",
    "* Um arquivo de saída (.csv) com todos os heróis sem gênero definido (id, name)\n",
    "* Um arquivo de saida (.txt) com o nome de todos os heróis dos estúdios Marvel Comics e DC Comics (um nome por linha)\n",
    "* Um arquivo de saída (.txt) com o nome de todos os heróis que tenham cor de pele azul e que sejam vilões (um nome por linha)"
   ]
  },
  {
   "cell_type": "code",
   "execution_count": null,
   "metadata": {},
   "outputs": [],
   "source": [
    "import  csv\n",
    "quantidade=0\n",
    "masculinogood=[]\n",
    "femininogood=[]\n",
    "nogender=[]\n",
    "marvel_dc=[]\n",
    "skinazul_evil=[]\n",
    "\n",
    "with open('csv/heroes.csv','r',encoding='utf-8') as heroes:\n",
    "    file = csv.reader(heroes)\n",
    "    for x in file:\n",
    "        if(x[2]=='Male' and x[9]=='good'): #masculino e bons\n",
    "            masculinogood.append([x[0],x[1]]) #crio listas dentro da lista\n",
    "        if(x[2]=='Female' and x[9]=='good'): #feminino e bons\n",
    "            femininogood.append([x[0],x[1]])\n",
    "        if(x[2]!='Male' and x[2]!='Female' and x[9]=='good'): #gênero indefinido\n",
    "            nogender.append([x[0],x[1]]) #lista dentro da lista\n",
    "        if(x[7]=='Marvel Comics' or x[7]=='DC Comics'): #publicados por marvel ou dc\n",
    "            marvel_dc.append(x[1]) \n",
    "        if(x[8]=='blue' and x[9]=='bad'): #masculino e bons\n",
    "            skinazul_evil.append(x[1])\n",
    "    heroes.close()\n",
    "with open('csv/masculino.csv','w',encoding='utf-8',newline='') as heroesm:\n",
    "    file2 = csv.writer(heroesm)\n",
    "    file2.writerow(['ID','Name'])\n",
    "    file2.writerows(masculinogood)\n",
    "    heroesm.close()\n",
    "with open('csv/feminino.csv','w',encoding='utf-8',newline='') as heroesf:\n",
    "    file2 = csv.writer(heroesf)\n",
    "    file2.writerow(['ID','Name'])\n",
    "    file2.writerows(femininogood)\n",
    "    heroesf.close()\n",
    "with open('csv/nogender.csv','w',encoding='utf-8',newline='') as heroesg:\n",
    "    file2 = csv.writer(heroesg)\n",
    "    file2.writerow(['ID','Name'])\n",
    "    file2.writerows(nogender)\n",
    "    heroesg.close()\n",
    "\n",
    "    #TXT\n",
    "m = open('csv/marveldc.txt','w',encoding='utf-8',newline='') #abrir txt\n",
    "m.write('Name'+'\\n')\n",
    "for x in marvel_dc:\n",
    "    m.write(x+'\\n') #escreve e pula a linha\n",
    "m.close()\n",
    "\n",
    "f = open('csv/vilaoazul.txt','w',encoding='utf-8',newline='') #abrir txt\n",
    "f.write('Name'+'\\n')\n",
    "for x in skinazul_evil:\n",
    "    f.write(x+'\\n') #escreve e pula a linha\n",
    "f.close()\n"
   ]
  }
 ],
 "metadata": {
  "language_info": {
   "name": "python"
  },
  "orig_nbformat": 4
 },
 "nbformat": 4,
 "nbformat_minor": 2
}
